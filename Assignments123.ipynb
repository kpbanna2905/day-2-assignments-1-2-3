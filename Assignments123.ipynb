{
  "nbformat": 4,
  "nbformat_minor": 0,
  "metadata": {
    "colab": {
      "name": "Assignments123.ipynb",
      "provenance": [],
      "collapsed_sections": [],
      "authorship_tag": "ABX9TyNp7KSe47WzGT4qx86X2Aqw",
      "include_colab_link": true
    },
    "kernelspec": {
      "name": "python3",
      "display_name": "Python 3"
    }
  },
  "cells": [
    {
      "cell_type": "markdown",
      "metadata": {
        "id": "view-in-github",
        "colab_type": "text"
      },
      "source": [
        "<a href=\"https://colab.research.google.com/github/kpbanna2905/day-2-assignments-1-2-3/blob/main/Assignments123.ipynb\" target=\"_parent\"><img src=\"https://colab.research.google.com/assets/colab-badge.svg\" alt=\"Open In Colab\"/></a>"
      ]
    },
    {
      "cell_type": "code",
      "metadata": {
        "id": "4kLj47koleZs"
      },
      "source": [
        "#ASSIGNMENT1\n",
        "#Different string functions"
      ],
      "execution_count": null,
      "outputs": []
    },
    {
      "cell_type": "code",
      "metadata": {
        "id": "IzteT8XSl3kw"
      },
      "source": [
        "# 1. String replace"
      ],
      "execution_count": null,
      "outputs": []
    },
    {
      "cell_type": "code",
      "metadata": {
        "colab": {
          "base_uri": "https://localhost:8080/"
        },
        "id": "w4ykY1_xmKMo",
        "outputId": "6d34072c-3bdf-4645-a019-812d8dae5c51"
      },
      "source": [
        "msg = \"Hello letsupgrade\"\n",
        "print (msg.replace (\"letsupgrade\",\"SK Sir\"))"
      ],
      "execution_count": null,
      "outputs": [
        {
          "output_type": "stream",
          "text": [
            "Hello SK Sir\n"
          ],
          "name": "stdout"
        }
      ]
    },
    {
      "cell_type": "code",
      "metadata": {
        "id": "YUliZlJ0mh4j"
      },
      "source": [
        "# 2. String reverse"
      ],
      "execution_count": null,
      "outputs": []
    },
    {
      "cell_type": "code",
      "metadata": {
        "colab": {
          "base_uri": "https://localhost:8080/"
        },
        "id": "y60yuHkSmvza",
        "outputId": "4fb97f30-fda0-49e5-9cab-9baf0c13b2f4"
      },
      "source": [
        " \n",
        "msg = \"Hello \"\n",
        "print (\"\".join (reversed (msg)))"
      ],
      "execution_count": null,
      "outputs": [
        {
          "output_type": "stream",
          "text": [
            " olleH\n"
          ],
          "name": "stdout"
        }
      ]
    },
    {
      "cell_type": "code",
      "metadata": {
        "id": "f2PUUGywnRtU"
      },
      "source": [
        "# 3. String length"
      ],
      "execution_count": null,
      "outputs": []
    },
    {
      "cell_type": "code",
      "metadata": {
        "colab": {
          "base_uri": "https://localhost:8080/"
        },
        "id": "Fhbpmk2gnWxg",
        "outputId": "19574e92-e85c-49f2-8f34-539023a91243"
      },
      "source": [
        "msg=\"Hello India\"\n",
        "print (len (msg))"
      ],
      "execution_count": null,
      "outputs": [
        {
          "output_type": "stream",
          "text": [
            "11\n"
          ],
          "name": "stdout"
        }
      ]
    },
    {
      "cell_type": "code",
      "metadata": {
        "id": "bR8r4bi-n565"
      },
      "source": [
        "# 4.String join"
      ],
      "execution_count": null,
      "outputs": []
    },
    {
      "cell_type": "code",
      "metadata": {
        "colab": {
          "base_uri": "https://localhost:8080/"
        },
        "id": "qr8eIkP3oAAQ",
        "outputId": "dd60108e-4d00-48f2-8792-c353c8e03b8d"
      },
      "source": [
        "S1= \"ABC\"\n",
        "S2= \"123\"\n",
        "print (S1.join (S2))"
      ],
      "execution_count": null,
      "outputs": [
        {
          "output_type": "stream",
          "text": [
            "1ABC2ABC3\n"
          ],
          "name": "stdout"
        }
      ]
    },
    {
      "cell_type": "code",
      "metadata": {
        "id": "TrTSgmiMoNqp"
      },
      "source": [
        "#5.String uppercase"
      ],
      "execution_count": null,
      "outputs": []
    },
    {
      "cell_type": "code",
      "metadata": {
        "colab": {
          "base_uri": "https://localhost:8080/"
        },
        "id": "vXNc5EgvoS0i",
        "outputId": "cd2a8015-f570-4c0b-e7b8-3b8568fd3e12"
      },
      "source": [
        "msg=\"python\"\n",
        "print (msg.upper())"
      ],
      "execution_count": null,
      "outputs": [
        {
          "output_type": "stream",
          "text": [
            "PYTHON\n"
          ],
          "name": "stdout"
        }
      ]
    },
    {
      "cell_type": "code",
      "metadata": {
        "id": "u_qoxvubpw5i"
      },
      "source": [
        "#ASSIGNMENT2\n",
        "#Different list functions"
      ],
      "execution_count": null,
      "outputs": []
    },
    {
      "cell_type": "code",
      "metadata": {
        "id": "rLA3xZQfqWT8"
      },
      "source": [
        "# 1.Sum functiom"
      ],
      "execution_count": null,
      "outputs": []
    },
    {
      "cell_type": "code",
      "metadata": {
        "colab": {
          "base_uri": "https://localhost:8080/"
        },
        "id": "Ap7vGiZHx-Fy",
        "outputId": "45bf632c-d637-4e76-f6b5-065eda7bb7e9"
      },
      "source": [
        "a1={1,2,3,4}\n",
        "sum (a)"
      ],
      "execution_count": 83,
      "outputs": [
        {
          "output_type": "execute_result",
          "data": {
            "text/plain": [
              "23"
            ]
          },
          "metadata": {
            "tags": []
          },
          "execution_count": 83
        }
      ]
    },
    {
      "cell_type": "code",
      "metadata": {
        "id": "u5S5cbOXyJC6"
      },
      "source": [
        "# 2.length function"
      ],
      "execution_count": null,
      "outputs": []
    },
    {
      "cell_type": "code",
      "metadata": {
        "colab": {
          "base_uri": "https://localhost:8080/"
        },
        "id": "6Tg7syyYyQ88",
        "outputId": "ef005db5-421f-4a30-c308-f30a35ddb1d2"
      },
      "source": [
        "len (a1)"
      ],
      "execution_count": 84,
      "outputs": [
        {
          "output_type": "execute_result",
          "data": {
            "text/plain": [
              "4"
            ]
          },
          "metadata": {
            "tags": []
          },
          "execution_count": 84
        }
      ]
    },
    {
      "cell_type": "code",
      "metadata": {
        "id": "RxNeQzbZyuEx"
      },
      "source": [
        "# 3. Max function"
      ],
      "execution_count": null,
      "outputs": []
    },
    {
      "cell_type": "code",
      "metadata": {
        "colab": {
          "base_uri": "https://localhost:8080/"
        },
        "id": "42Mdcyk6yxdD",
        "outputId": "aa103cea-671f-4b9b-ed3f-34ef1d4e044b"
      },
      "source": [
        "max (a1)"
      ],
      "execution_count": 85,
      "outputs": [
        {
          "output_type": "execute_result",
          "data": {
            "text/plain": [
              "4"
            ]
          },
          "metadata": {
            "tags": []
          },
          "execution_count": 85
        }
      ]
    },
    {
      "cell_type": "code",
      "metadata": {
        "id": "Ona7rLmy7A2o"
      },
      "source": [
        "#4. Min function"
      ],
      "execution_count": 77,
      "outputs": []
    },
    {
      "cell_type": "code",
      "metadata": {
        "id": "-9hgANCQDiSB"
      },
      "source": [
        "a2={1,5,8,9}"
      ],
      "execution_count": 86,
      "outputs": []
    },
    {
      "cell_type": "code",
      "metadata": {
        "colab": {
          "base_uri": "https://localhost:8080/"
        },
        "id": "S3Oij82S7Cfd",
        "outputId": "d7bcd035-f220-4b3a-e867-8274bc26ab41"
      },
      "source": [
        "min (a2)"
      ],
      "execution_count": 82,
      "outputs": [
        {
          "output_type": "execute_result",
          "data": {
            "text/plain": [
              "1"
            ]
          },
          "metadata": {
            "tags": []
          },
          "execution_count": 82
        }
      ]
    },
    {
      "cell_type": "code",
      "metadata": {
        "id": "SMnJqhK77Cnb"
      },
      "source": [
        "#5.type function"
      ],
      "execution_count": null,
      "outputs": []
    },
    {
      "cell_type": "code",
      "metadata": {
        "id": "HjE4uCi9MaeO"
      },
      "source": [
        "Lst={1,2,3,\"apple\"}"
      ],
      "execution_count": 90,
      "outputs": []
    },
    {
      "cell_type": "code",
      "metadata": {
        "colab": {
          "base_uri": "https://localhost:8080/"
        },
        "id": "Knx8dxzX7DXr",
        "outputId": "b0ea9e88-427a-4209-dcb8-4423c9c10acf"
      },
      "source": [
        "type(\"apple\")"
      ],
      "execution_count": 92,
      "outputs": [
        {
          "output_type": "execute_result",
          "data": {
            "text/plain": [
              "str"
            ]
          },
          "metadata": {
            "tags": []
          },
          "execution_count": 92
        }
      ]
    },
    {
      "cell_type": "code",
      "metadata": {
        "id": "4h4brM1W7DyQ"
      },
      "source": [
        ""
      ],
      "execution_count": null,
      "outputs": []
    },
    {
      "cell_type": "code",
      "metadata": {
        "id": "WB5PU2UF7D5X"
      },
      "source": [
        "#ASSIGNMENT 3"
      ],
      "execution_count": null,
      "outputs": []
    },
    {
      "cell_type": "code",
      "metadata": {
        "id": "lTT2dXl07JoD"
      },
      "source": [
        "#Functions of Dictionary"
      ],
      "execution_count": 1,
      "outputs": []
    },
    {
      "cell_type": "code",
      "metadata": {
        "id": "LXrALKUt8q_e"
      },
      "source": [
        "#1.length function"
      ],
      "execution_count": 2,
      "outputs": []
    },
    {
      "cell_type": "code",
      "metadata": {
        "id": "Bl5CCtE79er0"
      },
      "source": [
        "dict={\"Name\":'RAHUL', \"Age\":19, \"Location\":'Delhi'}"
      ],
      "execution_count": 5,
      "outputs": []
    },
    {
      "cell_type": "code",
      "metadata": {
        "colab": {
          "base_uri": "https://localhost:8080/"
        },
        "id": "W7AvS2vX-IGH",
        "outputId": "706ae6b8-a152-42a6-eaf7-dccbe2ad6b27"
      },
      "source": [
        "len(dict)"
      ],
      "execution_count": 11,
      "outputs": [
        {
          "output_type": "execute_result",
          "data": {
            "text/plain": [
              "3"
            ]
          },
          "metadata": {
            "tags": []
          },
          "execution_count": 11
        }
      ]
    },
    {
      "cell_type": "code",
      "metadata": {
        "id": "NYkvAsCc-sjw"
      },
      "source": [
        "#2.copy function"
      ],
      "execution_count": 12,
      "outputs": []
    },
    {
      "cell_type": "code",
      "metadata": {
        "colab": {
          "base_uri": "https://localhost:8080/"
        },
        "id": "7jcOAF45-wsj",
        "outputId": "83fcf7df-da9a-4528-e60b-0fadfd2841c9"
      },
      "source": [
        "dict.copy ()"
      ],
      "execution_count": 14,
      "outputs": [
        {
          "output_type": "execute_result",
          "data": {
            "text/plain": [
              "{'Age': 19, 'Location': 'Delhi', 'Name': 'RAHUL'}"
            ]
          },
          "metadata": {
            "tags": []
          },
          "execution_count": 14
        }
      ]
    },
    {
      "cell_type": "code",
      "metadata": {
        "id": "_FT2guMG_I6Q"
      },
      "source": [
        "#3.Value function"
      ],
      "execution_count": null,
      "outputs": []
    },
    {
      "cell_type": "code",
      "metadata": {
        "colab": {
          "base_uri": "https://localhost:8080/"
        },
        "id": "s_ZDJckB_Oex",
        "outputId": "6ec3d42d-beef-4609-f0f8-3af8c9a2ec94"
      },
      "source": [
        "dict.values()"
      ],
      "execution_count": 16,
      "outputs": [
        {
          "output_type": "execute_result",
          "data": {
            "text/plain": [
              "dict_values(['RAHUL', 19, 'Delhi'])"
            ]
          },
          "metadata": {
            "tags": []
          },
          "execution_count": 16
        }
      ]
    },
    {
      "cell_type": "code",
      "metadata": {
        "id": "bO_SPMc2_Yx5"
      },
      "source": [
        "#4.key function"
      ],
      "execution_count": null,
      "outputs": []
    },
    {
      "cell_type": "code",
      "metadata": {
        "colab": {
          "base_uri": "https://localhost:8080/"
        },
        "id": "2zfIbNdH_h0w",
        "outputId": "44c1e073-5dac-4ff8-db05-daba53634e97"
      },
      "source": [
        "dict.keys()"
      ],
      "execution_count": 17,
      "outputs": [
        {
          "output_type": "execute_result",
          "data": {
            "text/plain": [
              "dict_keys(['Name', 'Age', 'Location'])"
            ]
          },
          "metadata": {
            "tags": []
          },
          "execution_count": 17
        }
      ]
    },
    {
      "cell_type": "code",
      "metadata": {
        "id": "wCyjgrYS_l7H"
      },
      "source": [
        "#5.Clear function"
      ],
      "execution_count": null,
      "outputs": []
    },
    {
      "cell_type": "code",
      "metadata": {
        "id": "EDSKEbNy_pGe"
      },
      "source": [
        "dict.clear ()"
      ],
      "execution_count": 19,
      "outputs": []
    }
  ]
}