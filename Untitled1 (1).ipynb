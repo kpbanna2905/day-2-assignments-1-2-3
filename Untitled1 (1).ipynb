{
 "cells": [
  {
   "cell_type": "markdown",
   "metadata": {},
   "source": [
    "# Day3"
   ]
  },
  {
   "cell_type": "markdown",
   "metadata": {},
   "source": [
    "# ASSIGNMENT-1"
   ]
  },
  {
   "cell_type": "code",
   "execution_count": null,
   "metadata": {
    "scrolled": true
   },
   "outputs": [],
   "source": [
    "\n",
    "#USE IF,ELIF AND ELSE TO WRITE A PROGRAM IN PYTHON FOR YOUR REPORT CARD. "
   ]
  },
  {
   "cell_type": "code",
   "execution_count": 12,
   "metadata": {},
   "outputs": [
    {
     "name": "stdout",
     "output_type": "stream",
     "text": [
      " Please enter English Marks: 80\n",
      " Please enter Math score: 70\n",
      " Please enter Physics Marks: 80\n",
      " Please enter Chemistry Marks: 80\n",
      " Please enter Computer Marks: 90\n",
      "Total Marks = 400.00\n",
      "Marks Percentage = 80.00\n",
      "Grade A\n"
     ]
    }
   ],
   "source": [
    "\n",
    "English = float(input(\" Please enter English Marks: \"))\n",
    "Mathematics = float(input(\" Please enter Math score: \"))\n",
    "Physics = float(input(\" Please enter Physics Marks: \"))\n",
    "Chemistry = float(input(\" Please enter Chemistry Marks: \"))\n",
    "Computer = float(input(\" Please enter Computer Marks: \"))\n",
    "\n",
    "total = English + Mathematics + Physics + Chemistry + Computer\n",
    "percentage = (total / 500) * 100\n",
    "\n",
    "print(\"Total Marks = %.2f\"  %total)\n",
    "print(\"Marks Percentage = %.2f\"  %percentage)\n",
    "\n",
    "if (percentage>=90):\n",
    "    print (\"Grade A+\")\n",
    "elif (percentage>=80):\n",
    "    print (\"Grade A\")\n",
    "elif (percentage>=70):\n",
    "    print (\"Grade B+\")\n",
    "elif (percentage>=60):\n",
    "    print (\"Grade B\")\n",
    "elif (percentage>=50):\n",
    "    print (\"Grade C+\")\n",
    "elif (percentage>=40):\n",
    "    print (\"Grade D\")\n",
    "else:\n",
    "    print (\"Fail\")"
   ]
  },
  {
   "cell_type": "markdown",
   "metadata": {},
   "source": [
    "# ASSIGNMENT2"
   ]
  },
  {
   "cell_type": "code",
   "execution_count": null,
   "metadata": {},
   "outputs": [],
   "source": [
    "#Use for loop to print prime numbers in between 1 to 1000"
   ]
  },
  {
   "cell_type": "code",
   "execution_count": null,
   "metadata": {},
   "outputs": [],
   "source": [
    "a=1 \n",
    "b=1000 \n",
    "\n",
    "print (\"Prime numbers between\",a,\"and\",b,\"are:\")\n",
    "\n",
    "for num in range(a,b + 1):\n",
    "    #Prime numbers are greater than 1\n",
    "    if num > 1:\n",
    "        for n in range(2,num):\n",
    "            if (num % n) == 0:\n",
    "                break\n",
    "        else:\n",
    "            print (num)\n",
    " "
   ]
  },
  {
   "cell_type": "markdown",
   "metadata": {},
   "source": [
    "# ASSIGNMENT3"
   ]
  },
  {
   "cell_type": "code",
   "execution_count": null,
   "metadata": {},
   "outputs": [],
   "source": [
    "#WRITE A PROGRAM FOR PRINTING THE TABLES FROM 1 to 10 USING NESTED FOR LOOP"
   ]
  },
  {
   "cell_type": "code",
   "execution_count": 27,
   "metadata": {},
   "outputs": [
    {
     "name": "stdout",
     "output_type": "stream",
     "text": [
      "       1   2   3   4   5   6   7   8   9   10\n",
      "   1   1   2   3   4   5   6   7   8   9   10\n",
      "   2   2   4   6   8   10  12  14  16  18  20\n",
      "   3   3   6   9  12  15  18  21  24  27  30\n",
      "   4   4   8  12  16  20  24  28  32  36  40\n",
      "   5   5   10  15  20  25  30  35  40  45  50\n",
      "   6   6  12  18  24  30  36  42  48  54  60\n",
      "   7   7  14  21  28  35  42  49  56  63  70\n",
      "   8   8  16  24  32  40  48  56  64  72  80\n",
      "   9   9  18  27  36  45  54  63  72  81  90\n",
      "   10   10  20  30  40  50  60  70  80  90  100\n"
     ]
    }
   ],
   "source": [
    "\n",
    "for row in range(0, 11):\n",
    "    for col in range(0, 11):\n",
    "        num = row * col\n",
    "        if num < 11:\n",
    "            empty = \"  \"\n",
    "        else:\n",
    "            if num < 110: \n",
    "                empty  = \" \" \n",
    "        if col == 0:\n",
    "            if row == 0:\n",
    "                print(\"    \", end = '')\n",
    "            else:\n",
    "                print(\"  \", row, end='')\n",
    "        elif row == 0:\n",
    "            print(\"  \", col, end='')\n",
    "        else:\n",
    "            print(empty, num, end = '')\n",
    "    print()"
   ]
  },
  {
   "cell_type": "markdown",
   "metadata": {},
   "source": [
    "# ASSIGNMENT4"
   ]
  },
  {
   "cell_type": "code",
   "execution_count": 19,
   "metadata": {},
   "outputs": [],
   "source": [
    "#WRITE A PROGRAM TO PRINT X PRIME NUMBERS USING WHILE LOOP STARTING FROM 0, AND TAKE THE INPUT OF X FROM THE USER"
   ]
  }
 ],
 "metadata": {
  "kernelspec": {
   "display_name": "Python 3",
   "language": "python",
   "name": "python3"
  }
 },
 "nbformat": 4,
 "nbformat_minor": 4
}
